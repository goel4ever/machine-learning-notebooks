{
  "nbformat": 4,
  "nbformat_minor": 0,
  "metadata": {
    "colab": {
      "provenance": [],
      "authorship_tag": "ABX9TyOfxkYhnTw8IdlLGKPD36PH",
      "include_colab_link": true
    },
    "kernelspec": {
      "name": "python3",
      "display_name": "Python 3"
    },
    "language_info": {
      "name": "python"
    }
  },
  "cells": [
    {
      "cell_type": "markdown",
      "metadata": {
        "id": "view-in-github",
        "colab_type": "text"
      },
      "source": [
        "<a href=\"https://colab.research.google.com/github/goel4ever/machine-learning-notebooks/blob/main/nlp_pos_tagging_spacy.ipynb\" target=\"_parent\"><img src=\"https://colab.research.google.com/assets/colab-badge.svg\" alt=\"Open In Colab\"/></a>"
      ]
    },
    {
      "cell_type": "markdown",
      "source": [
        "# NLP: POS Tagging\n",
        "\n",
        "`spaCy` is an open source library for natural language processing (NLP). spaCy uses techniques such as tokenization, part-of-speech (POS) tagging and lemmatization to analyse texts.\n",
        "\n",
        "Tokenization is usually followed by `parts of speech tagging`. This assigns grammatical parts of speech to the tokens, such as nouns, verbs and adjectives. This information is important in order to understand the `syntactic structure` of a sentence.\n",
        "\n",
        "Parts of speech tagging is particularly useful for tasks such as `text analysis`, `text translation` and `language generation`, as it helps to understand the relationship between the words in the sentence."
      ],
      "metadata": {
        "id": "pYneJTWF2jN8"
      }
    },
    {
      "cell_type": "code",
      "execution_count": 1,
      "metadata": {
        "id": "ZSgKNB782hQT"
      },
      "outputs": [],
      "source": [
        "# Required dependencies\n",
        "import spacy"
      ]
    },
    {
      "cell_type": "code",
      "source": [
        "# Load the spaCy model (English)\n",
        "nlp = spacy.load(\"en_core_web_sm\")"
      ],
      "metadata": {
        "id": "WLUfEMRs2_m8"
      },
      "execution_count": 2,
      "outputs": []
    },
    {
      "cell_type": "code",
      "source": [
        "# Sample text for POS tagging\n",
        "text = \"SpaCy is a popular Python library for natural language processing.\""
      ],
      "metadata": {
        "id": "u684VqpW3B3Y"
      },
      "execution_count": 3,
      "outputs": []
    },
    {
      "cell_type": "code",
      "source": [
        "# Process the text using spaCy\n",
        "doc = nlp(text)\n",
        "\n",
        "# Print the token and its POS tag for each word in the text\n",
        "for token in doc:\n",
        "    print(token.text, token.pos_)"
      ],
      "metadata": {
        "colab": {
          "base_uri": "https://localhost:8080/"
        },
        "id": "1xBwqTSz3EAU",
        "outputId": "c959a4cf-a2a8-48c8-ad34-97a9abc57b44"
      },
      "execution_count": 4,
      "outputs": [
        {
          "output_type": "stream",
          "name": "stdout",
          "text": [
            "SpaCy PROPN\n",
            "is AUX\n",
            "a DET\n",
            "popular ADJ\n",
            "Python PROPN\n",
            "library NOUN\n",
            "for ADP\n",
            "natural ADJ\n",
            "language NOUN\n",
            "processing NOUN\n",
            ". PUNCT\n"
          ]
        }
      ]
    }
  ]
}