{
  "nbformat": 4,
  "nbformat_minor": 0,
  "metadata": {
    "colab": {
      "provenance": [],
      "authorship_tag": "ABX9TyOU/FCx/Ef9KCMeXNS11ZYT",
      "include_colab_link": true
    },
    "kernelspec": {
      "name": "python3",
      "display_name": "Python 3"
    },
    "language_info": {
      "name": "python"
    }
  },
  "cells": [
    {
      "cell_type": "markdown",
      "metadata": {
        "id": "view-in-github",
        "colab_type": "text"
      },
      "source": [
        "<a href=\"https://colab.research.google.com/github/goel4ever/machine-learning-notebooks/blob/main/nlp_name_entity_recognition_spacy.ipynb\" target=\"_parent\"><img src=\"https://colab.research.google.com/assets/colab-badge.svg\" alt=\"Open In Colab\"/></a>"
      ]
    },
    {
      "cell_type": "markdown",
      "source": [
        "# NLP: Name Entity Recognition (NER)\n",
        "\n",
        "`spaCy` is an open source library for natural language processing (NLP). spaCy uses techniques such as tokenization, part-of-speech (POS) tagging and lemmatization to analyse texts."
      ],
      "metadata": {
        "id": "42gommEy05va"
      }
    },
    {
      "cell_type": "code",
      "execution_count": 3,
      "metadata": {
        "id": "0qRnPILe0gyM"
      },
      "outputs": [],
      "source": [
        "# Required dependency\n",
        "import spacy"
      ]
    },
    {
      "cell_type": "code",
      "source": [
        "# Load the spaCy model for English\n",
        "nlp = spacy.load(\"en_core_web_sm\")"
      ],
      "metadata": {
        "id": "f_xMH7Jp1HHK"
      },
      "execution_count": 4,
      "outputs": []
    },
    {
      "cell_type": "code",
      "source": [
        "# Sample text for entity detection\n",
        "text = \"Apple Inc. was founded by Steve Jobs in Cupertino. The iPhone was released in 2007.\""
      ],
      "metadata": {
        "id": "1m2LZzu-1JZk"
      },
      "execution_count": 5,
      "outputs": []
    },
    {
      "cell_type": "code",
      "source": [
        "# Process the text with spaCy\n",
        "doc = nlp(text)\n",
        "\n",
        "# Iterate through the entities and print them\n",
        "for ent in doc.ents:\n",
        "    print(f\"Entity: {ent.text}, Type: {ent.label_}\")"
      ],
      "metadata": {
        "colab": {
          "base_uri": "https://localhost:8080/"
        },
        "id": "IGLW4p751Lx0",
        "outputId": "5204619b-f4ad-4d13-c322-7eda2dae8e2d"
      },
      "execution_count": 6,
      "outputs": [
        {
          "output_type": "stream",
          "name": "stdout",
          "text": [
            "Entity: Apple Inc., Type: ORG\n",
            "Entity: Steve Jobs, Type: PERSON\n",
            "Entity: Cupertino, Type: GPE\n",
            "Entity: iPhone, Type: ORG\n",
            "Entity: 2007, Type: DATE\n"
          ]
        }
      ]
    }
  ]
}