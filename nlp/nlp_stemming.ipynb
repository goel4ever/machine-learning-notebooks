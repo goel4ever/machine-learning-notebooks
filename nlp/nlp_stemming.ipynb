{
  "nbformat": 4,
  "nbformat_minor": 0,
  "metadata": {
    "colab": {
      "provenance": [],
      "authorship_tag": "ABX9TyP31AnWXAvoXhllx5PuB+2B",
      "include_colab_link": true
    },
    "kernelspec": {
      "name": "python3",
      "display_name": "Python 3"
    },
    "language_info": {
      "name": "python"
    }
  },
  "cells": [
    {
      "cell_type": "markdown",
      "metadata": {
        "id": "view-in-github",
        "colab_type": "text"
      },
      "source": [
        "<a href=\"https://colab.research.google.com/github/goel4ever/machine-learning-notebooks/blob/main/nlp_stemming.ipynb\" target=\"_parent\"><img src=\"https://colab.research.google.com/assets/colab-badge.svg\" alt=\"Open In Colab\"/></a>"
      ]
    },
    {
      "cell_type": "markdown",
      "source": [
        "# NLP: Stemming\n",
        "\n",
        "`Stemming` is a text processing task in which you reduce words to their root, which is the core part of a word. For example, the words \"helping\" and \"helper\" share the root \"help\". Stemming allows you to zero in on the basic meaning of a word\n",
        "\n",
        "This notebook focuses on applying stemming on a text using Natural Language Processing. NLTK has more than one stemmer. We'll use `Porter stemmer` here.\n",
        "\n",
        "We'll use `NLTK` package for implementation. A group of texts is called a `corpus`. NLTK provides several corpora covering everything from novels hosted by Project Gutenberg to inaugural speeches by presidents of the United States.\n",
        "\n",
        "In order to analyze texts in NLTK, you first need to import them. We need a one-off run of `nltk.download()` to get all the resources in one go. Note: It will take some time."
      ],
      "metadata": {
        "id": "Y8F-CLTlsx1x"
      }
    },
    {
      "cell_type": "code",
      "execution_count": 7,
      "metadata": {
        "colab": {
          "base_uri": "https://localhost:8080/"
        },
        "id": "AeaftvhOssFP",
        "outputId": "00c0a3a5-bf2e-44f3-ade2-1377ac70f62c"
      },
      "outputs": [
        {
          "output_type": "stream",
          "name": "stderr",
          "text": [
            "[nltk_data] Downloading package punkt to /root/nltk_data...\n",
            "[nltk_data]   Unzipping tokenizers/punkt.zip.\n"
          ]
        }
      ],
      "source": [
        "# Import Punkt Tokenizer Models\n",
        "# It a machine learning based tokenizer trained on a variety of European languages.\n",
        "# It works well for many Western languages and is capable of handling complex tokenization tasks such as splitting contractions\n",
        "import nltk\n",
        "nltk.download('punkt')\n",
        "\n",
        "# Required imports\n",
        "from nltk.stem import PorterStemmer\n",
        "from nltk.tokenize import word_tokenize"
      ]
    },
    {
      "cell_type": "code",
      "source": [
        "# Instantiate a stemmer\n",
        "stemmer = PorterStemmer()"
      ],
      "metadata": {
        "id": "O-BAT8Zotn_x"
      },
      "execution_count": 8,
      "outputs": []
    },
    {
      "cell_type": "code",
      "source": [
        "string_for_stemming = \"\"\"\n",
        "The crew of the USS Discovery discovered many discoveries.\n",
        "Discovering is what explorers do.\n",
        "\"\"\""
      ],
      "metadata": {
        "id": "5iRxQW2Oture"
      },
      "execution_count": 9,
      "outputs": []
    },
    {
      "cell_type": "code",
      "source": [
        "# Tokenize the string\n",
        "words = word_tokenize(string_for_stemming)\n",
        "words"
      ],
      "metadata": {
        "colab": {
          "base_uri": "https://localhost:8080/"
        },
        "id": "MZIu8Klztz-6",
        "outputId": "da734e3e-8dfa-4f20-d20f-30c46cef1d59"
      },
      "execution_count": 11,
      "outputs": [
        {
          "output_type": "execute_result",
          "data": {
            "text/plain": [
              "['The',\n",
              " 'crew',\n",
              " 'of',\n",
              " 'the',\n",
              " 'USS',\n",
              " 'Discovery',\n",
              " 'discovered',\n",
              " 'many',\n",
              " 'discoveries',\n",
              " '.',\n",
              " 'Discovering',\n",
              " 'is',\n",
              " 'what',\n",
              " 'explorers',\n",
              " 'do',\n",
              " '.']"
            ]
          },
          "metadata": {},
          "execution_count": 11
        }
      ]
    },
    {
      "cell_type": "code",
      "source": [
        "# Stem the words\n",
        "stemmed_words = [stemmer.stem(word) for word in words]\n",
        "stemmed_words"
      ],
      "metadata": {
        "colab": {
          "base_uri": "https://localhost:8080/"
        },
        "id": "0xz9-BEpv4Hm",
        "outputId": "de490f05-5e23-4105-a92d-04122cc98c97"
      },
      "execution_count": 12,
      "outputs": [
        {
          "output_type": "execute_result",
          "data": {
            "text/plain": [
              "['the',\n",
              " 'crew',\n",
              " 'of',\n",
              " 'the',\n",
              " 'uss',\n",
              " 'discoveri',\n",
              " 'discov',\n",
              " 'mani',\n",
              " 'discoveri',\n",
              " '.',\n",
              " 'discov',\n",
              " 'is',\n",
              " 'what',\n",
              " 'explor',\n",
              " 'do',\n",
              " '.']"
            ]
          },
          "metadata": {},
          "execution_count": 12
        }
      ]
    },
    {
      "cell_type": "markdown",
      "source": [
        "Those results look a little inconsistent. Why would `Discovery` give you `discoveri` when `Discovering` gives you `discov`?\n",
        "\n",
        "Understemming and overstemming are two ways stemming can go wrong:\n",
        "1. `Understemming` happens when two related words should be reduced to the same stem but aren't. This is a `false negative`.\n",
        "2. `Overstemming` happens when two unrelated words are reduced to the same stem even though they shouldn't be. This is a `false positive`.\n",
        "\n",
        "The Porter stemming algorithm is a little on the older side. The `Snowball stemmer (Porter2)`, is an improvement on the original. The purpose of the Porter stemmer is not to produce complete words but to find variant forms of a word.\n",
        "\n",
        "Fortunately, there are some other ways to reduce words to their core meaning, such as `lemmatizing`."
      ],
      "metadata": {
        "id": "BlwW-JAJzGKB"
      }
    }
  ]
}