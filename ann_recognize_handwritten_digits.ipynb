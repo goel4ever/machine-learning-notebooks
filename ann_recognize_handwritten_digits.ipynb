{
  "nbformat": 4,
  "nbformat_minor": 0,
  "metadata": {
    "colab": {
      "provenance": [],
      "authorship_tag": "ABX9TyPjhwXGaKO6NJgTR1/eZzrv",
      "include_colab_link": true
    },
    "kernelspec": {
      "name": "python3",
      "display_name": "Python 3"
    },
    "language_info": {
      "name": "python"
    }
  },
  "cells": [
    {
      "cell_type": "markdown",
      "metadata": {
        "id": "view-in-github",
        "colab_type": "text"
      },
      "source": [
        "<a href=\"https://colab.research.google.com/github/goel4ever/machine-learning-notebooks/blob/main/ann_recognize_handwritten_digits.ipynb\" target=\"_parent\"><img src=\"https://colab.research.google.com/assets/colab-badge.svg\" alt=\"Open In Colab\"/></a>"
      ]
    },
    {
      "cell_type": "markdown",
      "source": [
        "Using the multilayer perceptron (MLP) classifier from the scikit-learn library to identify handwritten digits"
      ],
      "metadata": {
        "id": "cKxAzGEBGJnM"
      }
    },
    {
      "cell_type": "code",
      "execution_count": 1,
      "metadata": {
        "id": "8hnSn0GCD3eB"
      },
      "outputs": [],
      "source": [
        "from sklearn import datasets, metrics\n",
        "from sklearn.neural_network import MLPClassifier\n",
        "from sklearn.model_selection import train_test_split"
      ]
    },
    {
      "cell_type": "code",
      "source": [
        "digits = datasets.load_digits()"
      ],
      "metadata": {
        "id": "R3ZWAOVpGGqF"
      },
      "execution_count": 2,
      "outputs": []
    },
    {
      "cell_type": "code",
      "source": [
        "# Rescale the data and split into training and test sets\n",
        "X, y = digits.data / 255., digits.target\n",
        "X_train, X_test, y_train, y_test = train_test_split(X, y, test_size=0.25, random_state=42)"
      ],
      "metadata": {
        "id": "KabRqPgaGULx"
      },
      "execution_count": 3,
      "outputs": []
    },
    {
      "cell_type": "code",
      "source": [
        "mlp = MLPClassifier(\n",
        "    hidden_layer_sizes=(100,),\n",
        "    max_iter=100,\n",
        "    alpha=1e-4,\n",
        "    solver='adam',\n",
        "    verbose=10,\n",
        "    tol=1e-4,\n",
        "    random_state=1,\n",
        "    learning_rate_init=.1\n",
        ")"
      ],
      "metadata": {
        "id": "_h228n_PGbjy"
      },
      "execution_count": 4,
      "outputs": []
    },
    {
      "cell_type": "code",
      "source": [
        "mlp.fit(X_train, y_train)"
      ],
      "metadata": {
        "colab": {
          "base_uri": "https://localhost:8080/",
          "height": 1000
        },
        "id": "vg3yA1z-GnDZ",
        "outputId": "7c67b8bd-fd3c-4d0f-e954-f36d92a753cc"
      },
      "execution_count": 5,
      "outputs": [
        {
          "output_type": "stream",
          "name": "stdout",
          "text": [
            "Iteration 1, loss = 2.08212650\n",
            "Iteration 2, loss = 1.03684958\n",
            "Iteration 3, loss = 0.46502758\n",
            "Iteration 4, loss = 0.29285682\n",
            "Iteration 5, loss = 0.22862621\n",
            "Iteration 6, loss = 0.18877491\n",
            "Iteration 7, loss = 0.15163667\n",
            "Iteration 8, loss = 0.13317189\n",
            "Iteration 9, loss = 0.11696284\n",
            "Iteration 10, loss = 0.09268670\n",
            "Iteration 11, loss = 0.08840361\n",
            "Iteration 12, loss = 0.08064708\n",
            "Iteration 13, loss = 0.06800582\n",
            "Iteration 14, loss = 0.06649765\n",
            "Iteration 15, loss = 0.05651331\n",
            "Iteration 16, loss = 0.05649585\n",
            "Iteration 17, loss = 0.06339016\n",
            "Iteration 18, loss = 0.06884457\n",
            "Iteration 19, loss = 0.05704660\n",
            "Iteration 20, loss = 0.03854956\n",
            "Iteration 21, loss = 0.04014536\n",
            "Iteration 22, loss = 0.03665529\n",
            "Iteration 23, loss = 0.03645015\n",
            "Iteration 24, loss = 0.03215832\n",
            "Iteration 25, loss = 0.03771792\n",
            "Iteration 26, loss = 0.04243158\n",
            "Iteration 27, loss = 0.03183698\n",
            "Iteration 28, loss = 0.02469338\n",
            "Iteration 29, loss = 0.03504355\n",
            "Iteration 30, loss = 0.04012626\n",
            "Iteration 31, loss = 0.03171065\n",
            "Iteration 32, loss = 0.03566241\n",
            "Iteration 33, loss = 0.02588726\n",
            "Iteration 34, loss = 0.02005802\n",
            "Iteration 35, loss = 0.02131260\n",
            "Iteration 36, loss = 0.01924758\n",
            "Iteration 37, loss = 0.01911315\n",
            "Iteration 38, loss = 0.01825841\n",
            "Iteration 39, loss = 0.01610385\n",
            "Iteration 40, loss = 0.01681970\n",
            "Iteration 41, loss = 0.01483421\n",
            "Iteration 42, loss = 0.01448602\n",
            "Iteration 43, loss = 0.01345281\n",
            "Iteration 44, loss = 0.01249190\n",
            "Iteration 45, loss = 0.01000891\n",
            "Iteration 46, loss = 0.00992545\n",
            "Iteration 47, loss = 0.00957401\n",
            "Iteration 48, loss = 0.00943369\n",
            "Iteration 49, loss = 0.00855532\n",
            "Iteration 50, loss = 0.00838147\n",
            "Iteration 51, loss = 0.00778789\n",
            "Iteration 52, loss = 0.00765848\n",
            "Iteration 53, loss = 0.00739772\n",
            "Iteration 54, loss = 0.00740276\n",
            "Iteration 55, loss = 0.00719433\n",
            "Iteration 56, loss = 0.00736158\n",
            "Iteration 57, loss = 0.00717631\n",
            "Iteration 58, loss = 0.00750920\n",
            "Iteration 59, loss = 0.00717485\n",
            "Iteration 60, loss = 0.00708782\n",
            "Iteration 61, loss = 0.00650680\n",
            "Iteration 62, loss = 0.00650865\n",
            "Iteration 63, loss = 0.00641359\n",
            "Iteration 64, loss = 0.00632283\n",
            "Iteration 65, loss = 0.00633066\n",
            "Iteration 66, loss = 0.00659453\n",
            "Iteration 67, loss = 0.00603806\n",
            "Iteration 68, loss = 0.00597225\n",
            "Iteration 69, loss = 0.00591129\n",
            "Iteration 70, loss = 0.00578659\n",
            "Iteration 71, loss = 0.00573579\n",
            "Iteration 72, loss = 0.00568993\n",
            "Iteration 73, loss = 0.00574392\n",
            "Iteration 74, loss = 0.00571268\n",
            "Iteration 75, loss = 0.00561077\n",
            "Iteration 76, loss = 0.00560634\n",
            "Iteration 77, loss = 0.00537118\n",
            "Iteration 78, loss = 0.00552388\n",
            "Iteration 79, loss = 0.00528862\n",
            "Iteration 80, loss = 0.00526083\n",
            "Iteration 81, loss = 0.00516147\n",
            "Iteration 82, loss = 0.00524853\n",
            "Iteration 83, loss = 0.00522601\n",
            "Iteration 84, loss = 0.00544951\n",
            "Iteration 85, loss = 0.00575936\n",
            "Iteration 86, loss = 0.00543527\n",
            "Iteration 87, loss = 0.00490926\n",
            "Iteration 88, loss = 0.00508637\n",
            "Iteration 89, loss = 0.00498933\n",
            "Iteration 90, loss = 0.00482549\n",
            "Iteration 91, loss = 0.00474463\n",
            "Iteration 92, loss = 0.00473518\n",
            "Iteration 93, loss = 0.00472791\n",
            "Iteration 94, loss = 0.00473741\n",
            "Iteration 95, loss = 0.00466507\n",
            "Iteration 96, loss = 0.00467888\n",
            "Iteration 97, loss = 0.00470469\n",
            "Iteration 98, loss = 0.00474596\n",
            "Training loss did not improve more than tol=0.000100 for 10 consecutive epochs. Stopping.\n"
          ]
        },
        {
          "output_type": "execute_result",
          "data": {
            "text/plain": [
              "MLPClassifier(learning_rate_init=0.1, max_iter=100, random_state=1, verbose=10)"
            ],
            "text/html": [
              "<style>#sk-container-id-1 {color: black;background-color: white;}#sk-container-id-1 pre{padding: 0;}#sk-container-id-1 div.sk-toggleable {background-color: white;}#sk-container-id-1 label.sk-toggleable__label {cursor: pointer;display: block;width: 100%;margin-bottom: 0;padding: 0.3em;box-sizing: border-box;text-align: center;}#sk-container-id-1 label.sk-toggleable__label-arrow:before {content: \"▸\";float: left;margin-right: 0.25em;color: #696969;}#sk-container-id-1 label.sk-toggleable__label-arrow:hover:before {color: black;}#sk-container-id-1 div.sk-estimator:hover label.sk-toggleable__label-arrow:before {color: black;}#sk-container-id-1 div.sk-toggleable__content {max-height: 0;max-width: 0;overflow: hidden;text-align: left;background-color: #f0f8ff;}#sk-container-id-1 div.sk-toggleable__content pre {margin: 0.2em;color: black;border-radius: 0.25em;background-color: #f0f8ff;}#sk-container-id-1 input.sk-toggleable__control:checked~div.sk-toggleable__content {max-height: 200px;max-width: 100%;overflow: auto;}#sk-container-id-1 input.sk-toggleable__control:checked~label.sk-toggleable__label-arrow:before {content: \"▾\";}#sk-container-id-1 div.sk-estimator input.sk-toggleable__control:checked~label.sk-toggleable__label {background-color: #d4ebff;}#sk-container-id-1 div.sk-label input.sk-toggleable__control:checked~label.sk-toggleable__label {background-color: #d4ebff;}#sk-container-id-1 input.sk-hidden--visually {border: 0;clip: rect(1px 1px 1px 1px);clip: rect(1px, 1px, 1px, 1px);height: 1px;margin: -1px;overflow: hidden;padding: 0;position: absolute;width: 1px;}#sk-container-id-1 div.sk-estimator {font-family: monospace;background-color: #f0f8ff;border: 1px dotted black;border-radius: 0.25em;box-sizing: border-box;margin-bottom: 0.5em;}#sk-container-id-1 div.sk-estimator:hover {background-color: #d4ebff;}#sk-container-id-1 div.sk-parallel-item::after {content: \"\";width: 100%;border-bottom: 1px solid gray;flex-grow: 1;}#sk-container-id-1 div.sk-label:hover label.sk-toggleable__label {background-color: #d4ebff;}#sk-container-id-1 div.sk-serial::before {content: \"\";position: absolute;border-left: 1px solid gray;box-sizing: border-box;top: 0;bottom: 0;left: 50%;z-index: 0;}#sk-container-id-1 div.sk-serial {display: flex;flex-direction: column;align-items: center;background-color: white;padding-right: 0.2em;padding-left: 0.2em;position: relative;}#sk-container-id-1 div.sk-item {position: relative;z-index: 1;}#sk-container-id-1 div.sk-parallel {display: flex;align-items: stretch;justify-content: center;background-color: white;position: relative;}#sk-container-id-1 div.sk-item::before, #sk-container-id-1 div.sk-parallel-item::before {content: \"\";position: absolute;border-left: 1px solid gray;box-sizing: border-box;top: 0;bottom: 0;left: 50%;z-index: -1;}#sk-container-id-1 div.sk-parallel-item {display: flex;flex-direction: column;z-index: 1;position: relative;background-color: white;}#sk-container-id-1 div.sk-parallel-item:first-child::after {align-self: flex-end;width: 50%;}#sk-container-id-1 div.sk-parallel-item:last-child::after {align-self: flex-start;width: 50%;}#sk-container-id-1 div.sk-parallel-item:only-child::after {width: 0;}#sk-container-id-1 div.sk-dashed-wrapped {border: 1px dashed gray;margin: 0 0.4em 0.5em 0.4em;box-sizing: border-box;padding-bottom: 0.4em;background-color: white;}#sk-container-id-1 div.sk-label label {font-family: monospace;font-weight: bold;display: inline-block;line-height: 1.2em;}#sk-container-id-1 div.sk-label-container {text-align: center;}#sk-container-id-1 div.sk-container {/* jupyter's `normalize.less` sets `[hidden] { display: none; }` but bootstrap.min.css set `[hidden] { display: none !important; }` so we also need the `!important` here to be able to override the default hidden behavior on the sphinx rendered scikit-learn.org. See: https://github.com/scikit-learn/scikit-learn/issues/21755 */display: inline-block !important;position: relative;}#sk-container-id-1 div.sk-text-repr-fallback {display: none;}</style><div id=\"sk-container-id-1\" class=\"sk-top-container\"><div class=\"sk-text-repr-fallback\"><pre>MLPClassifier(learning_rate_init=0.1, max_iter=100, random_state=1, verbose=10)</pre><b>In a Jupyter environment, please rerun this cell to show the HTML representation or trust the notebook. <br />On GitHub, the HTML representation is unable to render, please try loading this page with nbviewer.org.</b></div><div class=\"sk-container\" hidden><div class=\"sk-item\"><div class=\"sk-estimator sk-toggleable\"><input class=\"sk-toggleable__control sk-hidden--visually\" id=\"sk-estimator-id-1\" type=\"checkbox\" checked><label for=\"sk-estimator-id-1\" class=\"sk-toggleable__label sk-toggleable__label-arrow\">MLPClassifier</label><div class=\"sk-toggleable__content\"><pre>MLPClassifier(learning_rate_init=0.1, max_iter=100, random_state=1, verbose=10)</pre></div></div></div></div></div>"
            ]
          },
          "metadata": {},
          "execution_count": 5
        }
      ]
    },
    {
      "cell_type": "code",
      "source": [
        "print(\"Training set score: {0}\".format(mlp.score(X_train, y_train)))\n",
        "print(\"Test set score: {0}\".format(mlp.score(X_test, y_test)))"
      ],
      "metadata": {
        "colab": {
          "base_uri": "https://localhost:8080/"
        },
        "id": "CB4H5zzQGuWv",
        "outputId": "1b14006a-9cd9-4fa5-f2f3-d957b3bc2f99"
      },
      "execution_count": 6,
      "outputs": [
        {
          "output_type": "stream",
          "name": "stdout",
          "text": [
            "Training set score: 1.0\n",
            "Test set score: 0.9755555555555555\n"
          ]
        }
      ]
    }
  ]
}