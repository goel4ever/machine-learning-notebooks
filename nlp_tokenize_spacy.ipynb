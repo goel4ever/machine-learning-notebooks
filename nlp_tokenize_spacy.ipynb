{
  "nbformat": 4,
  "nbformat_minor": 0,
  "metadata": {
    "colab": {
      "provenance": [],
      "authorship_tag": "ABX9TyPbjJ9EeLPqm9c5VBv7es3H",
      "include_colab_link": true
    },
    "kernelspec": {
      "name": "python3",
      "display_name": "Python 3"
    },
    "language_info": {
      "name": "python"
    }
  },
  "cells": [
    {
      "cell_type": "markdown",
      "metadata": {
        "id": "view-in-github",
        "colab_type": "text"
      },
      "source": [
        "<a href=\"https://colab.research.google.com/github/goel4ever/machine-learning-notebooks/blob/main/nlp_tokenize_spacy.ipynb\" target=\"_parent\"><img src=\"https://colab.research.google.com/assets/colab-badge.svg\" alt=\"Open In Colab\"/></a>"
      ]
    },
    {
      "cell_type": "markdown",
      "source": [
        "# NLP: Tokenization\n",
        "\n",
        "`spaCy` is an open source library for natural language processing (NLP). spaCy uses techniques such as tokenization, part-of-speech (POS) tagging and lemmatization to analyse texts."
      ],
      "metadata": {
        "id": "LXkYsWMv1mq-"
      }
    },
    {
      "cell_type": "code",
      "execution_count": 1,
      "metadata": {
        "id": "n-Csuzzq1kQU"
      },
      "outputs": [],
      "source": [
        "# Required dependencies\n",
        "import spacy"
      ]
    },
    {
      "cell_type": "code",
      "source": [
        "# Load the spaCy model for the English language\n",
        "nlp = spacy.load(\"en_core_web_sm\")"
      ],
      "metadata": {
        "id": "2LOVOPnO17IG"
      },
      "execution_count": 2,
      "outputs": []
    },
    {
      "cell_type": "code",
      "source": [
        "# Sample text to be tokenized\n",
        "text = \"SpaCy is a powerful Python library for natural language processing.\""
      ],
      "metadata": {
        "id": "1fpm04AA2CcC"
      },
      "execution_count": 3,
      "outputs": []
    },
    {
      "cell_type": "code",
      "source": [
        "# Process the text using spaCy\n",
        "doc = nlp(text)\n",
        "\n",
        "# Tokenize the text and print each token\n",
        "for token in doc:\n",
        "    print(token.text)"
      ],
      "metadata": {
        "colab": {
          "base_uri": "https://localhost:8080/"
        },
        "id": "urzdEtNA2Ek_",
        "outputId": "a3be82f8-5b47-4b9e-9ff9-48c2633f5ca9"
      },
      "execution_count": 4,
      "outputs": [
        {
          "output_type": "stream",
          "name": "stdout",
          "text": [
            "SpaCy\n",
            "is\n",
            "a\n",
            "powerful\n",
            "Python\n",
            "library\n",
            "for\n",
            "natural\n",
            "language\n",
            "processing\n",
            ".\n"
          ]
        }
      ]
    }
  ]
}