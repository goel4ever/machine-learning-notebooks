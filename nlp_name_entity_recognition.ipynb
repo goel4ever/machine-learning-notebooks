{
  "nbformat": 4,
  "nbformat_minor": 0,
  "metadata": {
    "colab": {
      "provenance": [],
      "authorship_tag": "ABX9TyM5QY5PfQlLuS6ZqrbRJKJr",
      "include_colab_link": true
    },
    "kernelspec": {
      "name": "python3",
      "display_name": "Python 3"
    },
    "language_info": {
      "name": "python"
    }
  },
  "cells": [
    {
      "cell_type": "markdown",
      "metadata": {
        "id": "view-in-github",
        "colab_type": "text"
      },
      "source": [
        "<a href=\"https://colab.research.google.com/github/goel4ever/machine-learning-notebooks/blob/main/nlp_name_entity_recognition.ipynb\" target=\"_parent\"><img src=\"https://colab.research.google.com/assets/colab-badge.svg\" alt=\"Open In Colab\"/></a>"
      ]
    },
    {
      "cell_type": "markdown",
      "source": [
        "# NLP: Name Entity Recognition (NER)\n",
        "\n",
        "`Named entities` are noun phrases that refer to specific locations, people, organizations, and so on. With named entity recognition, you can `find the named entities` in your texts and also determine what `kind of named entity` they are.\n",
        "\n",
        "Reference from [here](https://www.nltk.org/book/ch07.html#sec-ner)"
      ],
      "metadata": {
        "id": "h-bK_bnQgBwl"
      }
    },
    {
      "cell_type": "code",
      "execution_count": 1,
      "metadata": {
        "id": "rsp_YvGvf_Sv"
      },
      "outputs": [],
      "source": [
        "# Required imports\n",
        "import nltk"
      ]
    },
    {
      "cell_type": "code",
      "source": [
        "# Download chunker and words\n",
        "nltk.download(\"maxent_ne_chunker\")\n",
        "nltk.download(\"words\")\n",
        "\n",
        "# Download resource punkt for tokenization\n",
        "nltk.download('punkt')\n",
        "\n",
        "# Required imports\n",
        "from nltk.tokenize import word_tokenize"
      ],
      "metadata": {
        "colab": {
          "base_uri": "https://localhost:8080/"
        },
        "id": "xK201qA4xQe8",
        "outputId": "e52cf19e-a006-4f75-d91b-34739582ad1a"
      },
      "execution_count": 3,
      "outputs": [
        {
          "output_type": "stream",
          "name": "stderr",
          "text": [
            "[nltk_data] Downloading package maxent_ne_chunker to\n",
            "[nltk_data]     /root/nltk_data...\n",
            "[nltk_data]   Package maxent_ne_chunker is already up-to-date!\n",
            "[nltk_data] Downloading package words to /root/nltk_data...\n",
            "[nltk_data]   Package words is already up-to-date!\n",
            "[nltk_data] Downloading package punkt to /root/nltk_data...\n",
            "[nltk_data]   Unzipping tokenizers/punkt.zip.\n"
          ]
        }
      ]
    },
    {
      "cell_type": "code",
      "source": [
        "# We'll reuse the quote used in chunking\n",
        "quote = \"It's a dangerous business, Frodo, going out your door.\""
      ],
      "metadata": {
        "id": "xPDLp53GxmEH"
      },
      "execution_count": 4,
      "outputs": []
    },
    {
      "cell_type": "code",
      "source": [
        "# Tokenize the string by word\n",
        "words_in_quote = word_tokenize(quote)\n",
        "words_in_quote"
      ],
      "metadata": {
        "colab": {
          "base_uri": "https://localhost:8080/"
        },
        "id": "Na_K4Z0SxwD2",
        "outputId": "a36c9964-cce9-4c58-86b4-892308869af6"
      },
      "execution_count": 5,
      "outputs": [
        {
          "output_type": "execute_result",
          "data": {
            "text/plain": [
              "['It',\n",
              " \"'s\",\n",
              " 'a',\n",
              " 'dangerous',\n",
              " 'business',\n",
              " ',',\n",
              " 'Frodo',\n",
              " ',',\n",
              " 'going',\n",
              " 'out',\n",
              " 'your',\n",
              " 'door',\n",
              " '.']"
            ]
          },
          "metadata": {},
          "execution_count": 5
        }
      ]
    },
    {
      "cell_type": "code",
      "source": [
        "# Tag those words by part of speech\n",
        "nltk.download(\"averaged_perceptron_tagger\")\n",
        "pos_tags = nltk.pos_tag(words_in_quote)\n",
        "pos_tags"
      ],
      "metadata": {
        "colab": {
          "base_uri": "https://localhost:8080/"
        },
        "id": "OopsSGlaxxm_",
        "outputId": "9d91026b-2553-4311-e5b5-37fc655d574c"
      },
      "execution_count": 6,
      "outputs": [
        {
          "output_type": "stream",
          "name": "stderr",
          "text": [
            "[nltk_data] Downloading package averaged_perceptron_tagger to\n",
            "[nltk_data]     /root/nltk_data...\n",
            "[nltk_data]   Unzipping taggers/averaged_perceptron_tagger.zip.\n"
          ]
        },
        {
          "output_type": "execute_result",
          "data": {
            "text/plain": [
              "[('It', 'PRP'),\n",
              " (\"'s\", 'VBZ'),\n",
              " ('a', 'DT'),\n",
              " ('dangerous', 'JJ'),\n",
              " ('business', 'NN'),\n",
              " (',', ','),\n",
              " ('Frodo', 'NNP'),\n",
              " (',', ','),\n",
              " ('going', 'VBG'),\n",
              " ('out', 'RP'),\n",
              " ('your', 'PRP$'),\n",
              " ('door', 'NN'),\n",
              " ('.', '.')]"
            ]
          },
          "metadata": {},
          "execution_count": 6
        }
      ]
    },
    {
      "cell_type": "code",
      "source": [
        "# use nltk.ne_chunk() to recognize named entities.\n",
        "tree = nltk.ne_chunk(pos_tags)\n",
        "\n",
        "# This will cause an error in notebooks because there's no display to draw the tree on\n",
        "# tree.draw()\n",
        "print(tree.pretty_print())\n",
        "\n",
        "# Frodo has been tagged as a PERSON!!"
      ],
      "metadata": {
        "colab": {
          "base_uri": "https://localhost:8080/"
        },
        "id": "mwhl-suxx8Iv",
        "outputId": "ad5ee4af-a118-4159-ca8b-e09aaf0676fb"
      },
      "execution_count": 8,
      "outputs": [
        {
          "output_type": "stream",
          "name": "stdout",
          "text": [
            "                                                 S                                                  \n",
            "   ______________________________________________|_____________________________________________      \n",
            "  |      |     |        |            |       |   |      |       |        |        |     |    PERSON \n",
            "  |      |     |        |            |       |   |      |       |        |        |     |      |     \n",
            "It/PRP 's/VBZ a/DT dangerous/JJ business/NN ,/, ,/, going/VBG out/RP your/PRP$ door/NN ./. Frodo/NNP\n",
            "\n",
            "None\n"
          ]
        }
      ]
    },
    {
      "cell_type": "code",
      "source": [
        "# Use the parameter binary=True if you just want to know what the named entities are but not what kind of named entity they are\n",
        "tree = nltk.ne_chunk(pos_tags, binary=True)\n",
        "print(tree.pretty_print())"
      ],
      "metadata": {
        "colab": {
          "base_uri": "https://localhost:8080/"
        },
        "id": "NRBKmmP5yavP",
        "outputId": "11a5138f-fc44-4198-c5d5-490548d286c5"
      },
      "execution_count": 9,
      "outputs": [
        {
          "output_type": "stream",
          "name": "stdout",
          "text": [
            "                                                 S                                                  \n",
            "   ______________________________________________|_____________________________________________      \n",
            "  |      |     |        |            |       |   |      |       |        |        |     |      NE   \n",
            "  |      |     |        |            |       |   |      |       |        |        |     |      |     \n",
            "It/PRP 's/VBZ a/DT dangerous/JJ business/NN ,/, ,/, going/VBG out/RP your/PRP$ door/NN ./. Frodo/NNP\n",
            "\n",
            "None\n"
          ]
        }
      ]
    },
    {
      "cell_type": "code",
      "source": [
        "# Take this one step further and extract named entities directly from your text.\n",
        "# Create a string from which to extract named entities.\n",
        "quote = \"\"\"\n",
        "Men like Schiaparelli watched the red planet—it is odd, by-the-bye, that\n",
        "for countless centuries Mars has been the star of war—but failed to\n",
        "interpret the fluctuating appearances of the markings they mapped so well.\n",
        "All that time the Martians must have been getting ready.\n",
        "\n",
        "During the opposition of 1894 a great light was seen on the illuminated\n",
        "part of the disk, first at the Lick Observatory, then by Perrotin of Nice,\n",
        "and then by other observers. English readers heard of it first in the\n",
        "issue of Nature dated August 2.\n",
        "\"\"\""
      ],
      "metadata": {
        "id": "GVAu-m30yvNA"
      },
      "execution_count": 10,
      "outputs": []
    },
    {
      "cell_type": "code",
      "source": [
        "# Create a function to extract named entities\n",
        "def extract_ne(quote):\n",
        "    words = word_tokenize(quote, language=\"english\")\n",
        "    tags = nltk.pos_tag(words)\n",
        "    tree = nltk.ne_chunk(tags, binary=True)\n",
        "    return set(\n",
        "        \" \".join(i[0] for i in t)\n",
        "        for t in tree\n",
        "        if hasattr(t, \"label\") and t.label() == \"NE\"\n",
        "    )"
      ],
      "metadata": {
        "id": "67OqAczLzAEW"
      },
      "execution_count": 11,
      "outputs": []
    },
    {
      "cell_type": "code",
      "source": [
        "# Gather all named entities, with no repeats\n",
        "extract_ne(quote)\n",
        "\n",
        "# You missed the city of Nice, possibly because NLTK interpreted it as a regular English adjective, but you still got the following:\n",
        "# An institution: 'Lick Observatory'\n",
        "# A planet: 'Mars'\n",
        "# A publication: 'Nature'\n",
        "# People: 'Perrotin', 'Schiaparelli'"
      ],
      "metadata": {
        "colab": {
          "base_uri": "https://localhost:8080/"
        },
        "id": "IeL9upcmzQdc",
        "outputId": "229c8791-301c-4e62-ba84-e0eb103306ba"
      },
      "execution_count": 12,
      "outputs": [
        {
          "output_type": "execute_result",
          "data": {
            "text/plain": [
              "{'Lick Observatory', 'Mars', 'Nature', 'Perrotin', 'Schiaparelli'}"
            ]
          },
          "metadata": {},
          "execution_count": 12
        }
      ]
    }
  ]
}